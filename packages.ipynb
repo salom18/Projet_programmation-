{
 "cells": [
  {
   "cell_type": "code",
   "execution_count": null,
   "id": "3f526184",
   "metadata": {},
   "outputs": [],
   "source": [
    "import pyowm \n",
    "import requests\n",
    "import os\n",
    "from datetime import datetime, timedelta\n",
    "import urllib.request\n",
    "from urllib.request import urlopen\n",
    "import json\n",
    "import ssl\n",
    "import schedule\n",
    "import time\n",
    "import smtplib\n",
    "import numpy as np\n",
    "import pandas as pd\n",
    "import matplotlib.pyplot as plt\n",
    "import datetime as dt\n",
    "import re\n",
    "from wordcloud import WordCloud, STOPWORDS\n",
    "import snscrape.modules.twitter as sntwitter\n",
    "import nltk\n",
    "from textblob import TextBlob\n",
    "import sys\n",
    "from selenium import webdriver\n",
    "from selenium.webdriver.chrome.service import Service\n",
    "from selenium.webdriver.common.keys import Keys\n",
    "from selenium.webdriver.common.by import By\n",
    "from selenium.webdriver.safari.webdriver import WebDriver as SafariDriver\n",
    "from selenium.webdriver.support.ui import WebDriverWait\n",
    "from selenium.webdriver.support import expected_conditions as EC\n",
    "from selenium.common.exceptions import StaleElementReferenceException\n",
    "from selenium.webdriver.common.action_chains import ActionChains\n",
    "import unicodedata\n",
    "from bs4 import BeautifulSoup\n",
    "from lxml import html\n",
    "import string"
   ]
  }
 ],
 "metadata": {
  "kernelspec": {
   "display_name": "Python 3 (ipykernel)",
   "language": "python",
   "name": "python3"
  },
  "language_info": {
   "codemirror_mode": {
    "name": "ipython",
    "version": 3
   },
   "file_extension": ".py",
   "mimetype": "text/x-python",
   "name": "python",
   "nbconvert_exporter": "python",
   "pygments_lexer": "ipython3",
   "version": "3.9.13"
  }
 },
 "nbformat": 4,
 "nbformat_minor": 5
}
