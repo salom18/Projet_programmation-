{
 "cells": [
  {
   "cell_type": "code",
   "execution_count": null,
   "id": "8576e957",
   "metadata": {},
   "outputs": [],
   "source": [
    "### - Find the cheapest hotel and extract its name and price \n",
    "\n",
    "def get_hrefs(url):\n",
    "    response = requests.get(url)\n",
    "    result = response.content\n",
    "    soup = BeautifulSoup(result, 'html.parser')\n",
    "    result_container=soup.find(\"div\", class_=\"uitk-card uitk-card-roundcorner-all uitk-card-has-primary-theme\")\n",
    "    hotel_link=result_container.find(\"a\", class_=\"uitk-card-link\")\n",
    "    if hotel_link:\n",
    "        href=hotel_link.get(\"href\")\n",
    "    else:\n",
    "        print(\"No hotel links found\")\n",
    "                        \n",
    "    pattern = r'top_dp=(\\d+)&top_cur=([A-Z]{3})'\n",
    "    match = re.search(pattern, href)\n",
    "    if match:\n",
    "        top_dp = match.group(1)\n",
    "        top_cur = match.group(2)\n",
    "    pattern1 = r'/([^/]+)/\\?'\n",
    "    match1 = re.search(pattern1, href)\n",
    "    if match1:\n",
    "        hotel_name = match1.group(1)\n",
    "        hotel_name = re.sub(r'-', ' ', hotel_name)\n",
    "        Hotel=string.capwords(hotel_name)\n",
    "    result2=f\" If you are on a budget, we suggest for your staying to book '{Hotel}' as it is the cheapest hotel in town. You will only have to pay {top_dp}{top_cur} per night! That is cool, right?\"\n",
    "    return(result2)\n",
    "\n",
    "def find_hotels():\n",
    "    hotel_cheap=get_hrefs(url)\n",
    "    return(hotel_cheap)"
   ]
  }
 ],
 "metadata": {
  "kernelspec": {
   "display_name": "Python 3 (ipykernel)",
   "language": "python",
   "name": "python3"
  },
  "language_info": {
   "codemirror_mode": {
    "name": "ipython",
    "version": 3
   },
   "file_extension": ".py",
   "mimetype": "text/x-python",
   "name": "python",
   "nbconvert_exporter": "python",
   "pygments_lexer": "ipython3",
   "version": "3.9.13"
  }
 },
 "nbformat": 4,
 "nbformat_minor": 5
}
