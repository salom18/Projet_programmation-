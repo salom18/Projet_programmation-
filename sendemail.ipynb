{
 "cells": [
  {
   "cell_type": "code",
   "execution_count": null,
   "id": "2954d9ae",
   "metadata": {},
   "outputs": [],
   "source": [
    "####PARTIE 4 ----Envoyer le mail avec toutes les informations###\n",
    "\n",
    "def send_email():\n",
    "    message1 = get_weather()\n",
    "    if message1 is not None:\n",
    "        message1 = str(message1)\n",
    "\n",
    "    message2 = find_hotels()\n",
    "    if message2 is not None:\n",
    "        message2 = str(message2)\n",
    "\n",
    "    message3 = get_sent()\n",
    "    if message3 is not None:\n",
    "        message3 = str(message3)\n",
    "\n",
    "    message_final = (message1 or \"\") + (message2 or \"\") + (message3 or \"\")\n",
    "    s=smtplib.SMTP(\"smtp.gmail.com\", 587)\n",
    "    s.starttls()\n",
    "    s.login(\"projectpythonse@gmail.com\", \"bapffljplqnfvgxs\")\n",
    "    SUBJECT=\"Informations\"\n",
    "    TEXT=message_final.encode('utf-8')\n",
    "    message=\"Subject:{}\\n\\n{}\".format(SUBJECT,TEXT.decode('utf-8'))\n",
    "    while True:\n",
    "        destinateur=input(\"Enter your email:\")\n",
    "        if not destinateur:\n",
    "            print(\"Email address cannot be empty. Please try again.\")\n",
    "        elif \"@\" not in destinateur:\n",
    "            print(\"Invalid email address. Please try again.\")\n",
    "        else:\n",
    "            break\n",
    "    s.sendmail(\"projectpythonse@gmail.com\", destinateur,message.encode('utf-8'))\n",
    "    s.quit()\n",
    "    print(\"Formuler le mail.\")\n",
    "    time.sleep(2)\n",
    "    print(\"En train d'envoyer le mail...\")\n",
    "    time.sleep(1)\n",
    "    print(\"Email envoyé! \")\n",
    "\n",
    "send_email()\n"
   ]
  }
 ],
 "metadata": {
  "kernelspec": {
   "display_name": "Python 3 (ipykernel)",
   "language": "python",
   "name": "python3"
  },
  "language_info": {
   "codemirror_mode": {
    "name": "ipython",
    "version": 3
   },
   "file_extension": ".py",
   "mimetype": "text/x-python",
   "name": "python",
   "nbconvert_exporter": "python",
   "pygments_lexer": "ipython3",
   "version": "3.9.13"
  }
 },
 "nbformat": 4,
 "nbformat_minor": 5
}
