{
 "cells": [
  {
   "cell_type": "code",
   "execution_count": null,
   "id": "96e1b5c3",
   "metadata": {},
   "outputs": [],
   "source": [
    import pyowm 
    import requests
    import os
    from datetime import datetime, timedelta
    import urllib.request
    from urllib.request import urlopen
    import json

    "#### - Find the average temperature of a city between the departure date and the arrival date###\n",
    "\n",
    "def get_avg_weather(city, checkin_date, checkout_date):\n",
    "    #get the API\n",
    "    owm = pyowm.OWM(\"5ebbddc757117fab77a6c7785688f4a1\")\n",
    "    #date de depart et date d'arrive\n",
    "    start_date = datetime.strptime(checkin_date, '%Y-%m-%d')\n",
    "    end_date = datetime.strptime(checkout_date, '%Y-%m-%d') + timedelta(days=1)\n",
    "    # check if start date is greater than end date\n",
    "    if start_date >= end_date:\n",
    "        return -1\n",
    "    daily_forecasts = []\n",
    "    while start_date < end_date:\n",
    "        try:\n",
    "            observation = owm.weather_manager().weather_at_place(city)\n",
    "            weather = observation.weather\n",
    "            daily_forecasts.append(weather)\n",
    "        except pyowm.exceptions.api_response_error.NotFoundError:\n",
    "            print(f\"Invalid city name: {city}\")\n",
    "            return -1\n",
    "        start_date += timedelta(days=1)\n",
    "    total_temp = sum([f.temperature('celsius')['temp'] for f in daily_forecasts])\n",
    "    avg_temp = total_temp / len(daily_forecasts)\n",
    "    return avg_temp\n",
    "\n",
    "def get_weather():\n",
    "    avg_temp=get_avg_weather(city, checkin_date, checkout_date)\n",
    "    result=f'Hello {name}! I hope you are doing well! We just found out that you are visiting {city} soon. The first thing you should know is certainly the weather! The average temperature in {city} between {checkin_date} and {checkout_date} will be {avg_temp:.1f} degrees Celsius, so be careful while packing your clothes!'\n",
    "    return(result)"
   ]
  }
 ],
 "metadata": {
  "kernelspec": {
   "display_name": "Python 3 (ipykernel)",
   "language": "python",
   "name": "python3"
  },
  "language_info": {
   "codemirror_mode": {
    "name": "ipython",
    "version": 3
   },
   "file_extension": ".py",
   "mimetype": "text/x-python",
   "name": "python",
   "nbconvert_exporter": "python",
   "pygments_lexer": "ipython3",
   "version": "3.9.13"
  }
 },
 "nbformat": 4,
 "nbformat_minor": 5
}
